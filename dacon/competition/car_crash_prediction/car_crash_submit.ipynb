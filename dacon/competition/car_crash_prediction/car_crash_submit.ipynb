{
 "cells": [
  {
   "cell_type": "code",
   "execution_count": null,
   "metadata": {
    "id": "KeZHtnpBV1sK"
   },
   "outputs": [],
   "source": [
    "import os\n",
    "\n",
    "import random\n",
    "import numpy as np\n",
    "import pandas as pd\n",
    "import matplotlib.pyplot as plt\n",
    "\n",
    "from sklearn.model_selection import train_test_split\n",
    "from sklearn.metrics import f1_score\n",
    "import cv2\n",
    "from tqdm.auto import tqdm\n",
    "\n",
    "import torch\n",
    "from torch import nn\n",
    "import torchvision.models as models \n",
    "from torch.utils.data import Dataset, DataLoader\n",
    "import torchvision"
   ]
  },
  {
   "cell_type": "code",
   "execution_count": null,
   "metadata": {
    "id": "I58LML2WVy37"
   },
   "outputs": [],
   "source": [
    "FPS = 50\n",
    "EPOCHS = 30\n",
    "IMAGE_SIZE = 128\n",
    "SEED = 22\n",
    "LEARNING_RATE = 1e-4"
   ]
  },
  {
   "cell_type": "code",
   "execution_count": null,
   "metadata": {
    "id": "NhaeEafqUhXy"
   },
   "outputs": [],
   "source": [
    "class CustomDataset():\n",
    "  def __init__(self, path, video_path, labels, transform=None):\n",
    "    self.path = path\n",
    "    self.video_path = video_path\n",
    "    self.labels = labels\n",
    "\n",
    "  def __len__(self):\n",
    "    return len(self.video_path)\n",
    "\n",
    "  def __getitem__(self, idx):\n",
    "    video_path = self.path + self.video_path[idx][2:]\n",
    "    frames = self.video_frames(video_path)\n",
    "    if self.labels is not None:\n",
    "      label = self.labels[idx]\n",
    "      return frames, label\n",
    "    else:\n",
    "      return frames\n",
    "\n",
    "  def video_frames(self, video_path):\n",
    "    cap = cv2.VideoCapture(video_path)\n",
    "    frames = []\n",
    "    for i in range(FPS):\n",
    "      _, img = cap.read()\n",
    "      img = cv2.resize(img, (IMAGE_SIZE, IMAGE_SIZE))\n",
    "      img = img / 225\n",
    "      frames.append(img)\n",
    "    return torch.FloatTensor(np.array(frames)).permute(3, 0, 1, 2)"
   ]
  },
  {
   "cell_type": "code",
   "execution_count": null,
   "metadata": {
    "colab": {
     "base_uri": "https://localhost:8080/",
     "height": 206
    },
    "id": "2nKH5-FCXhcf",
    "outputId": "347428ec-8d43-431f-e1af-0b64c355fe19"
   },
   "outputs": [],
   "source": [
    "test_csv = pd.read_csv('/content/drive/MyDrive/dacon/car_crash/test.csv')\n",
    "test_csv.tail()"
   ]
  },
  {
   "cell_type": "code",
   "execution_count": null,
   "metadata": {
    "id": "vCPwXXz7Ymc9"
   },
   "outputs": [],
   "source": [
    "class TrainedModel(nn.Module):\n",
    "  def __init__(self, num_classes):\n",
    "    super(TrainedModel, self).__init__()\n",
    "    self.backbone = models.video.r3d_18(weights='KINETICS400_V1')\n",
    "    self.fc = nn.Linear(400, num_classes)\n",
    "\n",
    "  def forward(self, x):\n",
    "    x = self.backbone(x)\n",
    "    x = self.fc(x)\n",
    "    return x"
   ]
  },
  {
   "cell_type": "code",
   "execution_count": null,
   "metadata": {
    "colab": {
     "base_uri": "https://localhost:8080/"
    },
    "id": "2gvq2Kl8YvUL",
    "outputId": "2c722673-6d6f-4220-d598-e96a5eef6e24"
   },
   "outputs": [],
   "source": [
    "crash = TrainedModel(2)\n",
    "crash.load_state_dict(torch.load('/content/drive/MyDrive/dacon/car_crash/best_crash_model.pt'))\n",
    "\n",
    "ego = TrainedModel(2)\n",
    "ego.load_state_dict(torch.load('/content/drive/MyDrive/dacon/car_crash/best_ego_model.pt'))\n",
    "\n",
    "# crash_ego = TrainedModel(3)\n",
    "# crash_ego.load_state_dict(torch.load('/content/drive/MyDrive/dacon/car_crash/crash_ego_weather_model.pt'))\n",
    "\n",
    "weather = TrainedModel(3)\n",
    "weather.load_state_dict(torch.load('/content/drive/MyDrive/dacon/car_crash/best_weather_model3.pt'))\n",
    "\n",
    "time = TrainedModel(2)\n",
    "time.load_state_dict(torch.load('/content/drive/MyDrive/dacon/car_crash/best_time_model.pt'))"
   ]
  },
  {
   "cell_type": "code",
   "execution_count": null,
   "metadata": {
    "id": "aS1g4cpxZ9Nc"
   },
   "outputs": [],
   "source": [
    "test_x = test_csv.iloc[:, 1].values"
   ]
  },
  {
   "cell_type": "code",
   "execution_count": null,
   "metadata": {
    "id": "BM8Ll4uMZtYf"
   },
   "outputs": [],
   "source": [
    "test_dataset = CustomDataset('/content/drive/MyDrive/dacon/car_crash/', test_x, None)\n",
    "test_dataloader = DataLoader(test_dataset, batch_size=10, shuffle=False)"
   ]
  },
  {
   "cell_type": "code",
   "execution_count": null,
   "metadata": {
    "colab": {
     "base_uri": "https://localhost:8080/"
    },
    "id": "WgPrvdIAayZS",
    "outputId": "4f438c88-cd17-4890-c8d3-2edb05b2697c"
   },
   "outputs": [],
   "source": [
    "device = 'cuda' if torch.cuda.is_available() else 'cpu'\n",
    "print(device)"
   ]
  },
  {
   "cell_type": "code",
   "execution_count": null,
   "metadata": {
    "id": "49X9TDQDapAi"
   },
   "outputs": [],
   "source": [
    "def inference(model, test_loader, device):\n",
    "    model.to(device)\n",
    "    model.eval()\n",
    "    preds = []\n",
    "    with torch.no_grad():\n",
    "        for videos in tqdm(iter(test_loader)):\n",
    "            videos = videos.to(device)\n",
    "            \n",
    "            logit = model(videos)\n",
    "\n",
    "            preds += logit.argmax(1).detach().cpu().numpy().tolist()\n",
    "    return preds"
   ]
  },
  {
   "cell_type": "code",
   "execution_count": null,
   "metadata": {
    "colab": {
     "base_uri": "https://localhost:8080/",
     "height": 49,
     "referenced_widgets": [
      "af23bcedce7d4e8b9fc67d11578f4172",
      "85ecf1b0cae34cfd86f16bee48d6f82c",
      "1ab65ecea2f249e885dedc57e2df6886",
      "70db02a15c57402b8ee52d2a35880480",
      "2fb99eeb56d74b3bbaa4a633af7f3bd7",
      "8d14e84499ae48369caa4dffc99a3f54",
      "ac13e0e59d924f1098525cff01537edb",
      "21ed5ece404c463ab1e0f33a6e23fe11",
      "61f96a31fc29483b8d211770106c0c45",
      "28e8c8f62c8c45909865859a897a87d9",
      "bb86103c33bb4c2e87f61650d04e7ea5"
     ]
    },
    "id": "fWvTsr9sa8iK",
    "outputId": "7212b77a-f7f7-4f53-f936-16b06860825f"
   },
   "outputs": [],
   "source": [
    "crash_preds = inference(crash, test_dataloader, device)\n",
    "ego_preds = inference(ego, test_dataloader, device)\n",
    "# crash_ego_preds = inference(crash_ego, test_dtaloader, device)\n",
    "weather_preds = inference(weather, test_dataloader, device)\n",
    "time_preds = inference(time, test_dataloader, device)"
   ]
  },
  {
   "cell_type": "code",
   "execution_count": null,
   "metadata": {
    "id": "bwLImL3R2RgJ"
   },
   "outputs": [],
   "source": [
    "label_dict = {\n",
    "    '1100':1,\n",
    "    '1101':2,\n",
    "    '1110':3,\n",
    "    '1111':4,\n",
    "    '1120':5,\n",
    "    '1121':6,\n",
    "    '1000':7,\n",
    "    '1001':8,\n",
    "    '1010':9,\n",
    "    '1011':10,\n",
    "    '1020':11,\n",
    "    '1021':12\n",
    "}"
   ]
  },
  {
   "cell_type": "code",
   "execution_count": null,
   "metadata": {
    "id": "YL8bkZU0P2w9"
   },
   "outputs": [],
   "source": [
    "result = []\n",
    "\n",
    "for c,e,w,t in zip(crash_preds, ego_preds, weather_preds, time_preds):\n",
    "  if c == 0:\n",
    "    result.append(0)\n",
    "  else:\n",
    "    result.append(label_dict[str(c)+str(e)+str(w)+str(t)])"
   ]
  },
  {
   "cell_type": "code",
   "execution_count": null,
   "metadata": {
    "id": "6Ayf4u8cdXKY"
   },
   "outputs": [],
   "source": [
    "submit = pd.read_csv('/content/drive/MyDrive/dacon/car_crash/sample_submission.csv')\n",
    "submit['label'] = result\n",
    "submit.to_csv('/content/drive/MyDrive/dacon/car_crash/r_3d_18_each_model_predict14.csv', index=False)"
   ]
  }
 ],
 "metadata": {
  "accelerator": "GPU",
  "colab": {
   "provenance": []
  },
  "gpuClass": "standard",
  "kernelspec": {
   "display_name": "Python 3 (ipykernel)",
   "language": "python",
   "name": "python3"
  },
  "language_info": {
   "codemirror_mode": {
    "name": "ipython",
    "version": 3
   },
   "file_extension": ".py",
   "mimetype": "text/x-python",
   "name": "python",
   "nbconvert_exporter": "python",
   "pygments_lexer": "ipython3",
   "version": "3.9.12"
  },
  "widgets": {
   "application/vnd.jupyter.widget-state+json": {
    "1ab65ecea2f249e885dedc57e2df6886": {
     "model_module": "@jupyter-widgets/controls",
     "model_module_version": "1.5.0",
     "model_name": "FloatProgressModel",
     "state": {
      "_dom_classes": [],
      "_model_module": "@jupyter-widgets/controls",
      "_model_module_version": "1.5.0",
      "_model_name": "FloatProgressModel",
      "_view_count": null,
      "_view_module": "@jupyter-widgets/controls",
      "_view_module_version": "1.5.0",
      "_view_name": "ProgressView",
      "bar_style": "success",
      "description": "",
      "description_tooltip": null,
      "layout": "IPY_MODEL_21ed5ece404c463ab1e0f33a6e23fe11",
      "max": 180,
      "min": 0,
      "orientation": "horizontal",
      "style": "IPY_MODEL_61f96a31fc29483b8d211770106c0c45",
      "value": 180
     }
    },
    "21ed5ece404c463ab1e0f33a6e23fe11": {
     "model_module": "@jupyter-widgets/base",
     "model_module_version": "1.2.0",
     "model_name": "LayoutModel",
     "state": {
      "_model_module": "@jupyter-widgets/base",
      "_model_module_version": "1.2.0",
      "_model_name": "LayoutModel",
      "_view_count": null,
      "_view_module": "@jupyter-widgets/base",
      "_view_module_version": "1.2.0",
      "_view_name": "LayoutView",
      "align_content": null,
      "align_items": null,
      "align_self": null,
      "border": null,
      "bottom": null,
      "display": null,
      "flex": null,
      "flex_flow": null,
      "grid_area": null,
      "grid_auto_columns": null,
      "grid_auto_flow": null,
      "grid_auto_rows": null,
      "grid_column": null,
      "grid_gap": null,
      "grid_row": null,
      "grid_template_areas": null,
      "grid_template_columns": null,
      "grid_template_rows": null,
      "height": null,
      "justify_content": null,
      "justify_items": null,
      "left": null,
      "margin": null,
      "max_height": null,
      "max_width": null,
      "min_height": null,
      "min_width": null,
      "object_fit": null,
      "object_position": null,
      "order": null,
      "overflow": null,
      "overflow_x": null,
      "overflow_y": null,
      "padding": null,
      "right": null,
      "top": null,
      "visibility": null,
      "width": null
     }
    },
    "28e8c8f62c8c45909865859a897a87d9": {
     "model_module": "@jupyter-widgets/base",
     "model_module_version": "1.2.0",
     "model_name": "LayoutModel",
     "state": {
      "_model_module": "@jupyter-widgets/base",
      "_model_module_version": "1.2.0",
      "_model_name": "LayoutModel",
      "_view_count": null,
      "_view_module": "@jupyter-widgets/base",
      "_view_module_version": "1.2.0",
      "_view_name": "LayoutView",
      "align_content": null,
      "align_items": null,
      "align_self": null,
      "border": null,
      "bottom": null,
      "display": null,
      "flex": null,
      "flex_flow": null,
      "grid_area": null,
      "grid_auto_columns": null,
      "grid_auto_flow": null,
      "grid_auto_rows": null,
      "grid_column": null,
      "grid_gap": null,
      "grid_row": null,
      "grid_template_areas": null,
      "grid_template_columns": null,
      "grid_template_rows": null,
      "height": null,
      "justify_content": null,
      "justify_items": null,
      "left": null,
      "margin": null,
      "max_height": null,
      "max_width": null,
      "min_height": null,
      "min_width": null,
      "object_fit": null,
      "object_position": null,
      "order": null,
      "overflow": null,
      "overflow_x": null,
      "overflow_y": null,
      "padding": null,
      "right": null,
      "top": null,
      "visibility": null,
      "width": null
     }
    },
    "2fb99eeb56d74b3bbaa4a633af7f3bd7": {
     "model_module": "@jupyter-widgets/base",
     "model_module_version": "1.2.0",
     "model_name": "LayoutModel",
     "state": {
      "_model_module": "@jupyter-widgets/base",
      "_model_module_version": "1.2.0",
      "_model_name": "LayoutModel",
      "_view_count": null,
      "_view_module": "@jupyter-widgets/base",
      "_view_module_version": "1.2.0",
      "_view_name": "LayoutView",
      "align_content": null,
      "align_items": null,
      "align_self": null,
      "border": null,
      "bottom": null,
      "display": null,
      "flex": null,
      "flex_flow": null,
      "grid_area": null,
      "grid_auto_columns": null,
      "grid_auto_flow": null,
      "grid_auto_rows": null,
      "grid_column": null,
      "grid_gap": null,
      "grid_row": null,
      "grid_template_areas": null,
      "grid_template_columns": null,
      "grid_template_rows": null,
      "height": null,
      "justify_content": null,
      "justify_items": null,
      "left": null,
      "margin": null,
      "max_height": null,
      "max_width": null,
      "min_height": null,
      "min_width": null,
      "object_fit": null,
      "object_position": null,
      "order": null,
      "overflow": null,
      "overflow_x": null,
      "overflow_y": null,
      "padding": null,
      "right": null,
      "top": null,
      "visibility": null,
      "width": null
     }
    },
    "61f96a31fc29483b8d211770106c0c45": {
     "model_module": "@jupyter-widgets/controls",
     "model_module_version": "1.5.0",
     "model_name": "ProgressStyleModel",
     "state": {
      "_model_module": "@jupyter-widgets/controls",
      "_model_module_version": "1.5.0",
      "_model_name": "ProgressStyleModel",
      "_view_count": null,
      "_view_module": "@jupyter-widgets/base",
      "_view_module_version": "1.2.0",
      "_view_name": "StyleView",
      "bar_color": null,
      "description_width": ""
     }
    },
    "70db02a15c57402b8ee52d2a35880480": {
     "model_module": "@jupyter-widgets/controls",
     "model_module_version": "1.5.0",
     "model_name": "HTMLModel",
     "state": {
      "_dom_classes": [],
      "_model_module": "@jupyter-widgets/controls",
      "_model_module_version": "1.5.0",
      "_model_name": "HTMLModel",
      "_view_count": null,
      "_view_module": "@jupyter-widgets/controls",
      "_view_module_version": "1.5.0",
      "_view_name": "HTMLView",
      "description": "",
      "description_tooltip": null,
      "layout": "IPY_MODEL_28e8c8f62c8c45909865859a897a87d9",
      "placeholder": "​",
      "style": "IPY_MODEL_bb86103c33bb4c2e87f61650d04e7ea5",
      "value": " 180/180 [07:04&lt;00:00,  2.20s/it]"
     }
    },
    "85ecf1b0cae34cfd86f16bee48d6f82c": {
     "model_module": "@jupyter-widgets/controls",
     "model_module_version": "1.5.0",
     "model_name": "HTMLModel",
     "state": {
      "_dom_classes": [],
      "_model_module": "@jupyter-widgets/controls",
      "_model_module_version": "1.5.0",
      "_model_name": "HTMLModel",
      "_view_count": null,
      "_view_module": "@jupyter-widgets/controls",
      "_view_module_version": "1.5.0",
      "_view_name": "HTMLView",
      "description": "",
      "description_tooltip": null,
      "layout": "IPY_MODEL_8d14e84499ae48369caa4dffc99a3f54",
      "placeholder": "​",
      "style": "IPY_MODEL_ac13e0e59d924f1098525cff01537edb",
      "value": "100%"
     }
    },
    "8d14e84499ae48369caa4dffc99a3f54": {
     "model_module": "@jupyter-widgets/base",
     "model_module_version": "1.2.0",
     "model_name": "LayoutModel",
     "state": {
      "_model_module": "@jupyter-widgets/base",
      "_model_module_version": "1.2.0",
      "_model_name": "LayoutModel",
      "_view_count": null,
      "_view_module": "@jupyter-widgets/base",
      "_view_module_version": "1.2.0",
      "_view_name": "LayoutView",
      "align_content": null,
      "align_items": null,
      "align_self": null,
      "border": null,
      "bottom": null,
      "display": null,
      "flex": null,
      "flex_flow": null,
      "grid_area": null,
      "grid_auto_columns": null,
      "grid_auto_flow": null,
      "grid_auto_rows": null,
      "grid_column": null,
      "grid_gap": null,
      "grid_row": null,
      "grid_template_areas": null,
      "grid_template_columns": null,
      "grid_template_rows": null,
      "height": null,
      "justify_content": null,
      "justify_items": null,
      "left": null,
      "margin": null,
      "max_height": null,
      "max_width": null,
      "min_height": null,
      "min_width": null,
      "object_fit": null,
      "object_position": null,
      "order": null,
      "overflow": null,
      "overflow_x": null,
      "overflow_y": null,
      "padding": null,
      "right": null,
      "top": null,
      "visibility": null,
      "width": null
     }
    },
    "ac13e0e59d924f1098525cff01537edb": {
     "model_module": "@jupyter-widgets/controls",
     "model_module_version": "1.5.0",
     "model_name": "DescriptionStyleModel",
     "state": {
      "_model_module": "@jupyter-widgets/controls",
      "_model_module_version": "1.5.0",
      "_model_name": "DescriptionStyleModel",
      "_view_count": null,
      "_view_module": "@jupyter-widgets/base",
      "_view_module_version": "1.2.0",
      "_view_name": "StyleView",
      "description_width": ""
     }
    },
    "af23bcedce7d4e8b9fc67d11578f4172": {
     "model_module": "@jupyter-widgets/controls",
     "model_module_version": "1.5.0",
     "model_name": "HBoxModel",
     "state": {
      "_dom_classes": [],
      "_model_module": "@jupyter-widgets/controls",
      "_model_module_version": "1.5.0",
      "_model_name": "HBoxModel",
      "_view_count": null,
      "_view_module": "@jupyter-widgets/controls",
      "_view_module_version": "1.5.0",
      "_view_name": "HBoxView",
      "box_style": "",
      "children": [
       "IPY_MODEL_85ecf1b0cae34cfd86f16bee48d6f82c",
       "IPY_MODEL_1ab65ecea2f249e885dedc57e2df6886",
       "IPY_MODEL_70db02a15c57402b8ee52d2a35880480"
      ],
      "layout": "IPY_MODEL_2fb99eeb56d74b3bbaa4a633af7f3bd7"
     }
    },
    "bb86103c33bb4c2e87f61650d04e7ea5": {
     "model_module": "@jupyter-widgets/controls",
     "model_module_version": "1.5.0",
     "model_name": "DescriptionStyleModel",
     "state": {
      "_model_module": "@jupyter-widgets/controls",
      "_model_module_version": "1.5.0",
      "_model_name": "DescriptionStyleModel",
      "_view_count": null,
      "_view_module": "@jupyter-widgets/base",
      "_view_module_version": "1.2.0",
      "_view_name": "StyleView",
      "description_width": ""
     }
    }
   }
  }
 },
 "nbformat": 4,
 "nbformat_minor": 4
}
