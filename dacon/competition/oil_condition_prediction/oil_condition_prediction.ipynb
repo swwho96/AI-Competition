{
 "cells": [
  {
   "cell_type": "markdown",
   "metadata": {
    "id": "75uf1OHGq-kI"
   },
   "source": [
    "## 0. 라이브러리 불러오기"
   ]
  },
  {
   "cell_type": "code",
   "execution_count": null,
   "metadata": {
    "id": "32A-alj26RVy"
   },
   "outputs": [],
   "source": [
    "import numpy as np\n",
    "import pandas as pd\n",
    "from sklearn.preprocessing import OneHotEncoder, LabelEncoder, StandardScaler\n",
    "from sklearn.model_selection import train_test_split\n",
    "from sklearn.metrics import f1_score, accuracy_score\n",
    "\n",
    "import matplotlib.pyplot as plt\n",
    "import seaborn as sns\n",
    "\n",
    "import tensorflow as tf\n",
    "from tensorflow import keras\n",
    "from keras.models import Sequential\n",
    "from keras.layers import Input, Dense, Dropout\n",
    "from keras.callbacks import EarlyStopping"
   ]
  },
  {
   "cell_type": "markdown",
   "metadata": {
    "id": "oK-SlancrLrJ"
   },
   "source": [
    "## 1. 데이터 불러오기"
   ]
  },
  {
   "cell_type": "code",
   "execution_count": null,
   "metadata": {
    "id": "qj3y9O3yq5zP"
   },
   "outputs": [],
   "source": [
    "train = pd.read_csv('/content/drive/MyDrive/dacon/oil_abnormal/train.csv')"
   ]
  },
  {
   "cell_type": "markdown",
   "metadata": {
    "id": "tuorvmccr2pI"
   },
   "source": [
    "## 2. 데이터 전처리\n",
    "- 결측치 제거\n",
    "- 샘플링\n",
    "- Train / Validation 분리"
   ]
  },
  {
   "cell_type": "code",
   "execution_count": null,
   "metadata": {
    "colab": {
     "base_uri": "https://localhost:8080/"
    },
    "id": "S03Fyl7-r1Td",
    "outputId": "e0ee6d99-54d1-49c5-aca6-3a5ec31e8d0d"
   },
   "outputs": [],
   "source": [
    "# 결측치 확인\n",
    "\n",
    "train.isna().sum()\n",
    "train.info()"
   ]
  },
  {
   "cell_type": "code",
   "execution_count": null,
   "metadata": {
    "id": "2HJSQWj9sVel"
   },
   "outputs": [],
   "source": [
    "# object형 feature와 test에 사용될 feature 정의\n",
    "object_columns = ['ID', 'COMPONENT_ARBITRARY']\n",
    "oil_test_cols = ['COMPONENT_ARBITRARY', 'ANONYMOUS_1', 'YEAR' , 'ANONYMOUS_2', 'AG', 'CO', 'CR', 'CU', 'FE', 'H2O', 'MN', 'MO', 'NI', 'PQINDEX', 'TI', 'V', 'V40', 'ZN']"
   ]
  },
  {
   "cell_type": "code",
   "execution_count": null,
   "metadata": {
    "id": "xDHmsK8ite-3"
   },
   "outputs": [],
   "source": [
    "# test에 사용될 feature만 남기기\n",
    "train_oil_test_cols = train[oil_test_cols+['Y_LABEL']]"
   ]
  },
  {
   "cell_type": "code",
   "execution_count": null,
   "metadata": {
    "colab": {
     "base_uri": "https://localhost:8080/"
    },
    "id": "MudBZDUpvIL1",
    "outputId": "b627e6ef-d444-4297-cef9-cbb6aafdc367"
   },
   "outputs": [],
   "source": [
    "# object형 feature 인코딩\n",
    "\n",
    "ohe = OneHotEncoder(sparse=False)\n",
    "\n",
    "def get_ohe_component():\n",
    "  tmp = pd.DataFrame(data=ohe.fit_transform(train_oil_test_cols[['COMPONENT_ARBITRARY']]), columns=ohe.get_feature_names_out())\n",
    "  train_oil_test_cols.drop('COMPONENT_ARBITRARY', axis=1, inplace=True)\n",
    "  df = pd.concat([train_oil_test_cols.reset_index(drop=True), tmp], axis=1)\n",
    "  return df\n",
    "\n",
    "if 'COMPONENT_ARBITRARY' in train_oil_test_cols.columns:\n",
    "  train_data = get_ohe_component()"
   ]
  },
  {
   "cell_type": "code",
   "execution_count": null,
   "metadata": {
    "id": "UpAkoxeUgHzX"
   },
   "outputs": [],
   "source": [
    "# x, y 데이터 분리\n",
    "\n",
    "train_X = train_data.drop('Y_LABEL', axis=1)\n",
    "train_Y = train_data['Y_LABEL']"
   ]
  },
  {
   "cell_type": "code",
   "execution_count": null,
   "metadata": {
    "id": "P3vf6V49nsQr"
   },
   "outputs": [],
   "source": [
    "from imblearn.over_sampling import SMOTE\n",
    "\n",
    "smote = SMOTE(random_state=22)\n",
    "train_X, train_Y = smote.fit_resample(train_X, train_Y)"
   ]
  },
  {
   "cell_type": "code",
   "execution_count": null,
   "metadata": {
    "id": "zivkO_cMWYOY"
   },
   "outputs": [],
   "source": [
    "# 데이터 정규화\n",
    "\n",
    "# def get_values(value):\n",
    "#   return value.values.reshape(-1, 1)\n",
    "\n",
    "# for col in train_X.columns:\n",
    "#   scaler = StandardScaler()\n",
    "#   train_X[col] = scaler.fit_transform(get_values(train_X[col]))"
   ]
  },
  {
   "cell_type": "code",
   "execution_count": null,
   "metadata": {
    "colab": {
     "base_uri": "https://localhost:8080/"
    },
    "id": "_B6xL79jYWhX",
    "outputId": "741f9744-2d43-4316-e3de-54dca5211ac6"
   },
   "outputs": [],
   "source": [
    "# train / validation 데이터 분리\n",
    "\n",
    "train_x, val_x, train_y, val_y = train_test_split(train_X, train_Y, random_state=22, test_size=0.1, stratify=train_Y)\n",
    "train_x.shape, val_x.shape"
   ]
  },
  {
   "cell_type": "markdown",
   "metadata": {
    "id": "RjAiRDm7xEC7"
   },
   "source": [
    "## 3. 모델 만들기 (ML)"
   ]
  },
  {
   "cell_type": "code",
   "execution_count": null,
   "metadata": {
    "colab": {
     "base_uri": "https://localhost:8080/"
    },
    "id": "qexxtiWIxJbG",
    "outputId": "92eaea04-2608-443c-848b-5de6a21ec178"
   },
   "outputs": [],
   "source": [
    "from sklearn.ensemble import RandomForestClassifier\n",
    "\n",
    "train_tmp = train_x.drop('COMPONENT_ARBITRARY_COMPONENT4', axis=1)\n",
    "val_tmp = val_x.drop('COMPONENT_ARBITRARY_COMPONENT4', axis=1)\n",
    "\n",
    "rf = RandomForestClassifier(random_state=22, max_depth=31)\n",
    "rf.fit(train_tmp, train_y)"
   ]
  },
  {
   "cell_type": "code",
   "execution_count": null,
   "metadata": {
    "colab": {
     "base_uri": "https://localhost:8080/"
    },
    "id": "NQShs3fCxbRM",
    "outputId": "b71c953d-1aa8-4367-b31c-c6a0ff8237cd"
   },
   "outputs": [],
   "source": [
    "rf_pred = rf.predict(val_tmp)\n",
    "rf_f1_score = f1_score(val_y, rf_pred, average='macro')\n",
    "print(rf_f1_score)"
   ]
  },
  {
   "cell_type": "code",
   "execution_count": null,
   "metadata": {
    "colab": {
     "base_uri": "https://localhost:8080/"
    },
    "id": "bCe4BF03sgZx",
    "outputId": "da91820f-64e9-4032-926f-33dedcdeb910"
   },
   "outputs": [],
   "source": [
    "# print(list(train_x.columns))\n",
    "# print(list(val_x.columns))\n",
    "# feature 줄여보기\n",
    "dropped_result = []\n",
    "for col in train_x.columns:\n",
    "  train_tmp = train_x.drop(col, axis=1)\n",
    "  val_tmp = val_x.drop(col, axis=1)\n",
    "  rf = RandomForestClassifier(random_state=22, max_depth=31)\n",
    "  rf.fit(train_tmp, train_y)\n",
    "  rf_pred = rf.predict(val_tmp)\n",
    "  rf_f1_score = f1_score(val_y, rf_pred, average='macro')\n",
    "  dropped_result.append([f'drop column: {col}', rf_f1_score])\n",
    "\n",
    "print(dropped_result)"
   ]
  },
  {
   "cell_type": "code",
   "execution_count": null,
   "metadata": {
    "id": "wjC3fdmSfOaR"
   },
   "outputs": [],
   "source": [
    "from sklearn.model_selection import StratifiedKFold, cross_val_score\n",
    "\n",
    "def score(model, x, y):\n",
    "  y_pred = model.predict(x)\n",
    "  result = f1_score(y,y_pred, average='macro')\n",
    "  return result\n",
    "\n",
    "Skfold = StratifiedKFold(n_splits=10, shuffle=True, random_state=22)\n",
    "cvs = cross_val_score(rf, train_x, train_y, cv=Skfold, scoring='accuracy')"
   ]
  },
  {
   "cell_type": "code",
   "execution_count": null,
   "metadata": {
    "colab": {
     "base_uri": "https://localhost:8080/",
     "height": 520
    },
    "id": "J-PycCLIzs_0",
    "outputId": "5a21ccc1-6de8-456a-fcbb-22bdccfeb9bb"
   },
   "outputs": [],
   "source": [
    "df = pd.DataFrame(list(zip(train_x, rf.feature_importances_)), columns=['feature', 'importance']).sort_values('importance', ascending=False)\n",
    "df = df.reset_index(drop=True)\n",
    "df.head(15)"
   ]
  },
  {
   "cell_type": "code",
   "execution_count": null,
   "metadata": {
    "colab": {
     "base_uri": "https://localhost:8080/"
    },
    "id": "n6mRwdzS0V3n",
    "outputId": "047bd1dd-fb3d-4bbc-f862-907966d62774"
   },
   "outputs": [],
   "source": [
    "from xgboost import XGBClassifier\n",
    "train_tmp = train_x.drop('COMPONENT_ARBITRARY_COMPONENT4', axis=1)\n",
    "val_tmp = val_x.drop('COMPONENT_ARBITRARY_COMPONENT4', axis=1)\n",
    "\n",
    "xg = XGBClassifier(random_state=22, max_depth=35)\n",
    "xg.fit(train_tmp, train_y)"
   ]
  },
  {
   "cell_type": "code",
   "execution_count": null,
   "metadata": {
    "colab": {
     "base_uri": "https://localhost:8080/"
    },
    "id": "7WSObgxp0tzE",
    "outputId": "14f6dff1-6a0d-4161-a2d7-0a1f5adeea22"
   },
   "outputs": [],
   "source": [
    "xg_pred = xg.predict(val_tmp)\n",
    "xg_f1_score = f1_score(val_y, xg_pred, average='macro')\n",
    "print(xg_f1_score)"
   ]
  },
  {
   "cell_type": "markdown",
   "metadata": {
    "id": "YDC5YoDLtdOf"
   },
   "source": [
    "## 4. 제출 파일 만들기"
   ]
  },
  {
   "cell_type": "code",
   "execution_count": null,
   "metadata": {
    "id": "RuQ7JpzWtbsT"
   },
   "outputs": [],
   "source": [
    "submission = pd.read_csv('/content/drive/MyDrive/dacon/oil_abnormal/sample_submission.csv')"
   ]
  },
  {
   "cell_type": "code",
   "execution_count": null,
   "metadata": {
    "id": "bPQDfVTNtsnI"
   },
   "outputs": [],
   "source": [
    "test = pd.read_csv('/content/drive/MyDrive/dacon/oil_abnormal/test.csv')"
   ]
  },
  {
   "cell_type": "code",
   "execution_count": null,
   "metadata": {
    "id": "PT7zn2r5t7y0"
   },
   "outputs": [],
   "source": [
    "test = test[oil_test_cols]"
   ]
  },
  {
   "cell_type": "code",
   "execution_count": null,
   "metadata": {
    "id": "YVm06H2YuCUY"
   },
   "outputs": [],
   "source": [
    "def get_ohe_component():\n",
    "  tmp = pd.DataFrame(data=ohe.transform(test[['COMPONENT_ARBITRARY']]), columns=ohe.get_feature_names_out())\n",
    "  test.drop('COMPONENT_ARBITRARY', axis=1, inplace=True)\n",
    "  df = pd.concat([test.reset_index(drop=True), tmp], axis=1)\n",
    "  return df\n",
    "\n",
    "test_data = get_ohe_component()"
   ]
  },
  {
   "cell_type": "code",
   "execution_count": null,
   "metadata": {
    "id": "N6Dhr3SZubkM"
   },
   "outputs": [],
   "source": [
    "# dl_result = model.predict(test_data)\n",
    "# print(dl_result.flatten())\n",
    "# dl_result = np.where(dl_result > 0.5, 1, 0)"
   ]
  },
  {
   "cell_type": "code",
   "execution_count": null,
   "metadata": {
    "id": "FjyZfWLgx89X"
   },
   "outputs": [],
   "source": [
    "test_data = test_data.drop('COMPONENT_ARBITRARY_COMPONENT4', axis=1)\n",
    "rf_result = rf.predict(test_data)"
   ]
  },
  {
   "cell_type": "code",
   "execution_count": null,
   "metadata": {
    "id": "IZvccDcIuzwo"
   },
   "outputs": [],
   "source": [
    "submission['Y_LABEL'] = rf_result"
   ]
  },
  {
   "cell_type": "code",
   "execution_count": null,
   "metadata": {
    "id": "E7cKAJNRu5nf"
   },
   "outputs": [],
   "source": [
    "submission.to_csv('/content/drive/MyDrive/dacon/oil_abnormal/rf_submission4.csv', index=False)"
   ]
  }
 ],
 "metadata": {
  "accelerator": "GPU",
  "colab": {
   "provenance": []
  },
  "gpuClass": "standard",
  "kernelspec": {
   "display_name": "Python 3 (ipykernel)",
   "language": "python",
   "name": "python3"
  },
  "language_info": {
   "codemirror_mode": {
    "name": "ipython",
    "version": 3
   },
   "file_extension": ".py",
   "mimetype": "text/x-python",
   "name": "python",
   "nbconvert_exporter": "python",
   "pygments_lexer": "ipython3",
   "version": "3.9.12"
  }
 },
 "nbformat": 4,
 "nbformat_minor": 4
}
