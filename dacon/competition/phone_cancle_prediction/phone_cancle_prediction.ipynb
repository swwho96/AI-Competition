{
 "cells": [
  {
   "cell_type": "code",
   "execution_count": 1,
   "id": "e86bb124-462d-4aa7-83cb-4bccb247ef24",
   "metadata": {},
   "outputs": [],
   "source": [
    "import numpy as np\n",
    "import pandas as pd\n",
    "import seaborn as sns\n",
    "import matplotlib.pyplot as plt\n",
    "\n",
    "from lightgbm import LGBMClassifier\n",
    "\n",
    "from sklearn.metrics import f1_score\n",
    "from sklearn.model_selection import train_test_split\n",
    "from sklearn.preprocessing import StandardScaler, MinMaxScaler\n",
    "from sklearn.model_selection import StratifiedKFold\n",
    "from imblearn.over_sampling import SMOTE, ADASYN\n",
    "\n",
    "from xgboost import XGBClassifier"
   ]
  },
  {
   "cell_type": "code",
   "execution_count": 2,
   "id": "413e8423-6c39-4b2a-a19e-2e0a5823c2b4",
   "metadata": {},
   "outputs": [],
   "source": [
    "path = 'C:\\\\Users\\\\swwho\\\\Desktop\\\\ai_competition\\\\AI-Competition/data/phone_cancle_prediction/'"
   ]
  },
  {
   "cell_type": "code",
   "execution_count": 3,
   "id": "4b670215-8b8c-4702-9118-49ef1f7b8837",
   "metadata": {},
   "outputs": [],
   "source": [
    "train = pd.read_csv(path+'train.csv')"
   ]
  },
  {
   "cell_type": "code",
   "execution_count": 4,
   "id": "e75dd61c-26c6-41c9-b6d2-17ec305bcac2",
   "metadata": {},
   "outputs": [
    {
     "data": {
      "text/html": [
       "<div>\n",
       "<style scoped>\n",
       "    .dataframe tbody tr th:only-of-type {\n",
       "        vertical-align: middle;\n",
       "    }\n",
       "\n",
       "    .dataframe tbody tr th {\n",
       "        vertical-align: top;\n",
       "    }\n",
       "\n",
       "    .dataframe thead th {\n",
       "        text-align: right;\n",
       "    }\n",
       "</style>\n",
       "<table border=\"1\" class=\"dataframe\">\n",
       "  <thead>\n",
       "    <tr style=\"text-align: right;\">\n",
       "      <th></th>\n",
       "      <th>가입일</th>\n",
       "      <th>음성사서함이용</th>\n",
       "      <th>주간통화시간</th>\n",
       "      <th>주간통화횟수</th>\n",
       "      <th>주간통화요금</th>\n",
       "      <th>저녁통화시간</th>\n",
       "      <th>저녁통화횟수</th>\n",
       "      <th>저녁통화요금</th>\n",
       "      <th>밤통화시간</th>\n",
       "      <th>밤통화횟수</th>\n",
       "      <th>밤통화요금</th>\n",
       "      <th>상담전화건수</th>\n",
       "      <th>전화해지여부</th>\n",
       "    </tr>\n",
       "  </thead>\n",
       "  <tbody>\n",
       "    <tr>\n",
       "      <th>count</th>\n",
       "      <td>30200.000000</td>\n",
       "      <td>30200.000000</td>\n",
       "      <td>30200.000000</td>\n",
       "      <td>30200.000000</td>\n",
       "      <td>30200.000000</td>\n",
       "      <td>30200.000000</td>\n",
       "      <td>30200.000000</td>\n",
       "      <td>30200.000000</td>\n",
       "      <td>30200.000000</td>\n",
       "      <td>30200.000000</td>\n",
       "      <td>30200.000000</td>\n",
       "      <td>30200.000000</td>\n",
       "      <td>30200.000000</td>\n",
       "    </tr>\n",
       "    <tr>\n",
       "      <th>mean</th>\n",
       "      <td>159.732649</td>\n",
       "      <td>12.037815</td>\n",
       "      <td>250.563457</td>\n",
       "      <td>159.175728</td>\n",
       "      <td>41.091447</td>\n",
       "      <td>263.247215</td>\n",
       "      <td>158.474536</td>\n",
       "      <td>25.394260</td>\n",
       "      <td>263.438285</td>\n",
       "      <td>157.047417</td>\n",
       "      <td>12.074648</td>\n",
       "      <td>2.288079</td>\n",
       "      <td>0.109868</td>\n",
       "    </tr>\n",
       "    <tr>\n",
       "      <th>std</th>\n",
       "      <td>123.752781</td>\n",
       "      <td>24.925334</td>\n",
       "      <td>84.403350</td>\n",
       "      <td>101.573057</td>\n",
       "      <td>23.179017</td>\n",
       "      <td>74.064922</td>\n",
       "      <td>102.200293</td>\n",
       "      <td>8.146126</td>\n",
       "      <td>73.778416</td>\n",
       "      <td>101.721601</td>\n",
       "      <td>9.414261</td>\n",
       "      <td>2.050746</td>\n",
       "      <td>0.312730</td>\n",
       "    </tr>\n",
       "    <tr>\n",
       "      <th>min</th>\n",
       "      <td>1.000000</td>\n",
       "      <td>0.000000</td>\n",
       "      <td>0.000000</td>\n",
       "      <td>0.000000</td>\n",
       "      <td>0.000000</td>\n",
       "      <td>0.100000</td>\n",
       "      <td>0.000000</td>\n",
       "      <td>0.000000</td>\n",
       "      <td>20.800000</td>\n",
       "      <td>20.000000</td>\n",
       "      <td>1.040000</td>\n",
       "      <td>0.000000</td>\n",
       "      <td>0.000000</td>\n",
       "    </tr>\n",
       "    <tr>\n",
       "      <th>25%</th>\n",
       "      <td>63.000000</td>\n",
       "      <td>0.000000</td>\n",
       "      <td>222.800000</td>\n",
       "      <td>88.000000</td>\n",
       "      <td>24.400000</td>\n",
       "      <td>223.700000</td>\n",
       "      <td>87.000000</td>\n",
       "      <td>22.220000</td>\n",
       "      <td>223.700000</td>\n",
       "      <td>87.000000</td>\n",
       "      <td>4.700000</td>\n",
       "      <td>2.000000</td>\n",
       "      <td>0.000000</td>\n",
       "    </tr>\n",
       "    <tr>\n",
       "      <th>50%</th>\n",
       "      <td>118.000000</td>\n",
       "      <td>1.000000</td>\n",
       "      <td>234.000000</td>\n",
       "      <td>117.500000</td>\n",
       "      <td>30.800000</td>\n",
       "      <td>243.000000</td>\n",
       "      <td>112.000000</td>\n",
       "      <td>23.320000</td>\n",
       "      <td>242.800000</td>\n",
       "      <td>108.000000</td>\n",
       "      <td>9.080000</td>\n",
       "      <td>2.000000</td>\n",
       "      <td>0.000000</td>\n",
       "    </tr>\n",
       "    <tr>\n",
       "      <th>75%</th>\n",
       "      <td>228.000000</td>\n",
       "      <td>22.000000</td>\n",
       "      <td>289.600000</td>\n",
       "      <td>223.000000</td>\n",
       "      <td>45.900000</td>\n",
       "      <td>290.300000</td>\n",
       "      <td>223.000000</td>\n",
       "      <td>28.820000</td>\n",
       "      <td>290.500000</td>\n",
       "      <td>222.000000</td>\n",
       "      <td>20.290000</td>\n",
       "      <td>2.000000</td>\n",
       "      <td>0.000000</td>\n",
       "    </tr>\n",
       "    <tr>\n",
       "      <th>max</th>\n",
       "      <td>2212.000000</td>\n",
       "      <td>1112.000000</td>\n",
       "      <td>481.900000</td>\n",
       "      <td>489.000000</td>\n",
       "      <td>118.600000</td>\n",
       "      <td>481.600000</td>\n",
       "      <td>489.000000</td>\n",
       "      <td>49.980000</td>\n",
       "      <td>481.800000</td>\n",
       "      <td>490.000000</td>\n",
       "      <td>44.980000</td>\n",
       "      <td>11.000000</td>\n",
       "      <td>1.000000</td>\n",
       "    </tr>\n",
       "  </tbody>\n",
       "</table>\n",
       "</div>"
      ],
      "text/plain": [
       "                가입일       음성사서함이용        주간통화시간        주간통화횟수        주간통화요금  \\\n",
       "count  30200.000000  30200.000000  30200.000000  30200.000000  30200.000000   \n",
       "mean     159.732649     12.037815    250.563457    159.175728     41.091447   \n",
       "std      123.752781     24.925334     84.403350    101.573057     23.179017   \n",
       "min        1.000000      0.000000      0.000000      0.000000      0.000000   \n",
       "25%       63.000000      0.000000    222.800000     88.000000     24.400000   \n",
       "50%      118.000000      1.000000    234.000000    117.500000     30.800000   \n",
       "75%      228.000000     22.000000    289.600000    223.000000     45.900000   \n",
       "max     2212.000000   1112.000000    481.900000    489.000000    118.600000   \n",
       "\n",
       "             저녁통화시간        저녁통화횟수        저녁통화요금         밤통화시간         밤통화횟수  \\\n",
       "count  30200.000000  30200.000000  30200.000000  30200.000000  30200.000000   \n",
       "mean     263.247215    158.474536     25.394260    263.438285    157.047417   \n",
       "std       74.064922    102.200293      8.146126     73.778416    101.721601   \n",
       "min        0.100000      0.000000      0.000000     20.800000     20.000000   \n",
       "25%      223.700000     87.000000     22.220000    223.700000     87.000000   \n",
       "50%      243.000000    112.000000     23.320000    242.800000    108.000000   \n",
       "75%      290.300000    223.000000     28.820000    290.500000    222.000000   \n",
       "max      481.600000    489.000000     49.980000    481.800000    490.000000   \n",
       "\n",
       "              밤통화요금        상담전화건수        전화해지여부  \n",
       "count  30200.000000  30200.000000  30200.000000  \n",
       "mean      12.074648      2.288079      0.109868  \n",
       "std        9.414261      2.050746      0.312730  \n",
       "min        1.040000      0.000000      0.000000  \n",
       "25%        4.700000      2.000000      0.000000  \n",
       "50%        9.080000      2.000000      0.000000  \n",
       "75%       20.290000      2.000000      0.000000  \n",
       "max       44.980000     11.000000      1.000000  "
      ]
     },
     "execution_count": 4,
     "metadata": {},
     "output_type": "execute_result"
    }
   ],
   "source": [
    "train.describe()"
   ]
  },
  {
   "cell_type": "code",
   "execution_count": 5,
   "id": "728b235a-1782-45e9-b9f6-a4000e354f2e",
   "metadata": {},
   "outputs": [],
   "source": [
    "train = pd.read_csv(path+'train.csv')\n",
    "train['총통화시간'] = train['주간통화시간'] + train['저녁통화시간'] + train['밤통화시간']\n",
    "train['총통화요금'] = train['주간통화요금'] + train['저녁통화요금'] + train['밤통화요금']\n",
    "train['총통화횟수'] = train['주간통화횟수'] + train['저녁통화횟수'] + train['밤통화횟수']\n",
    "train['분당요금'] = train['총통화요금'] / train['총통화시간']\n",
    "train = train.loc[(train['밤통화시간'] <= 405)]\n",
    "train = train.reset_index(drop=True)"
   ]
  },
  {
   "cell_type": "code",
   "execution_count": 6,
   "id": "dcd3611f-e978-46be-befa-db955ce1370c",
   "metadata": {},
   "outputs": [],
   "source": [
    "def standard_scale(df, sc=StandardScaler(), test=False):\n",
    "    scaler = sc\n",
    "    cols = df.columns\n",
    "    if not test:\n",
    "        df = scaler.fit_transform(df)\n",
    "        df = pd.DataFrame(df, columns=cols)\n",
    "        return scaler, df\n",
    "    else:\n",
    "        df = scaler.transform(df)\n",
    "        df = pd.DataFrame(df, columns=cols)\n",
    "        return df"
   ]
  },
  {
   "cell_type": "code",
   "execution_count": 7,
   "id": "7b7d183a-549b-454e-8970-3f8a9892a08d",
   "metadata": {},
   "outputs": [],
   "source": [
    "x = train.drop(['ID','전화해지여부'], axis=1)\n",
    "y = train['전화해지여부']\n",
    "\n",
    "scaler, x = standard_scale(x, StandardScaler())\n",
    "\n",
    "train_x, val_x, train_y, val_y = train_test_split(x,y, test_size=0.05, stratify=y, random_state=123)"
   ]
  },
  {
   "cell_type": "code",
   "execution_count": 8,
   "id": "526c0d68-9e3f-4c6e-9eba-d04177457a21",
   "metadata": {},
   "outputs": [],
   "source": [
    "def f1(y_true, y_pred):\n",
    "    y_pred = np.where(y_pred >= 0.5, 1, 0)\n",
    "    score= f1_score(y_true, y_pred, average='macro')\n",
    "    return 'score', score, False"
   ]
  },
  {
   "cell_type": "code",
   "execution_count": 9,
   "id": "6b78e0f1-29ca-4eba-a830-bbaf898ecfb0",
   "metadata": {},
   "outputs": [
    {
     "data": {
      "text/plain": [
       "LGBMClassifier(class_weight='balanced', learning_rate=0.058, n_estimators=900,\n",
       "               random_state=123)"
      ]
     },
     "execution_count": 9,
     "metadata": {},
     "output_type": "execute_result"
    }
   ],
   "source": [
    "lgb_model = LGBMClassifier(learning_rate=0.058, n_jobs=-1, n_estimators=900, random_state=123, class_weight='balanced')\n",
    "lgb_model.fit(train_x, train_y, eval_metric=f1)"
   ]
  },
  {
   "cell_type": "code",
   "execution_count": 10,
   "id": "ef8a0a31-ea26-4042-88f6-0290cf5a80a0",
   "metadata": {},
   "outputs": [
    {
     "data": {
      "text/plain": [
       "XGBClassifier(base_score=0.5, booster='gbtree', callbacks=None,\n",
       "              colsample_bylevel=1, colsample_bynode=1, colsample_bytree=1,\n",
       "              early_stopping_rounds=None, enable_categorical=False,\n",
       "              eval_metric=<function f1 at 0x0000022143248EE0>, gamma=0,\n",
       "              gpu_id=-1, grow_policy='depthwise', importance_type=None,\n",
       "              interaction_constraints='', learning_rate=0.55, max_bin=256,\n",
       "              max_cat_to_onehot=4, max_delta_step=0, max_depth=6, max_leaves=0,\n",
       "              min_child_weight=1, missing=nan, monotone_constraints='()',\n",
       "              n_estimators=1000, n_jobs=0, num_parallel_tree=1,\n",
       "              predictor='auto', random_state=123, reg_alpha=0, reg_lambda=1, ...)"
      ]
     },
     "execution_count": 10,
     "metadata": {},
     "output_type": "execute_result"
    }
   ],
   "source": [
    "xg_model = XGBClassifier(random_state=123, learning_rate=0.55, eval_metric=f1, n_estimators=1000)\n",
    "xg_model.fit(train_x, train_y)"
   ]
  },
  {
   "cell_type": "code",
   "execution_count": 11,
   "id": "8d2c70bd-ff30-4333-9691-f9a96bc0403d",
   "metadata": {},
   "outputs": [
    {
     "ename": "NameError",
     "evalue": "name 'clf' is not defined",
     "output_type": "error",
     "traceback": [
      "\u001b[1;31m---------------------------------------------------------------------------\u001b[0m",
      "\u001b[1;31mNameError\u001b[0m                                 Traceback (most recent call last)",
      "Input \u001b[1;32mIn [11]\u001b[0m, in \u001b[0;36m<cell line: 1>\u001b[1;34m()\u001b[0m\n\u001b[1;32m----> 1\u001b[0m clf_preds \u001b[38;5;241m=\u001b[39m \u001b[43mclf\u001b[49m\u001b[38;5;241m.\u001b[39mpredict(val_x)\n\u001b[0;32m      2\u001b[0m f1_score(val_y, clf_preds, average\u001b[38;5;241m=\u001b[39m\u001b[38;5;124m'\u001b[39m\u001b[38;5;124mmacro\u001b[39m\u001b[38;5;124m'\u001b[39m)\n",
      "\u001b[1;31mNameError\u001b[0m: name 'clf' is not defined"
     ]
    }
   ],
   "source": [
    "clf_preds = clf.predict(val_x)\n",
    "f1_score(val_y, clf_preds, average='macro')"
   ]
  },
  {
   "cell_type": "markdown",
   "id": "af1be90b-1529-48f8-87aa-ccb65bb4b1a8",
   "metadata": {},
   "source": [
    "## SUBMIT"
   ]
  },
  {
   "cell_type": "code",
   "execution_count": null,
   "id": "d05df0a4-766a-4388-b76e-b6fd2d21299f",
   "metadata": {},
   "outputs": [],
   "source": [
    "test = pd.read_csv(path+'test.csv')\n",
    "test = test.drop(['ID'], axis=1)\n",
    "test['총통화시간'] = test['주간통화시간'] + test['저녁통화시간'] + test['밤통화시간']\n",
    "test['총통화요금'] = test['주간통화요금'] + test['저녁통화요금'] + test['밤통화요금']\n",
    "test['총통화횟수'] = test['주간통화횟수'] + test['저녁통화횟수'] + test['밤통화횟수']\n",
    "test['분당요금'] =  test['총통화요금'] /  test['총통화시간']\n",
    "test = standard_scale(test, scaler, True)\n",
    "test_preds = lgb_model.predict(test)"
   ]
  },
  {
   "cell_type": "code",
   "execution_count": null,
   "id": "ca990c8f-a3ab-4da8-a0a1-549e20c4a20b",
   "metadata": {},
   "outputs": [],
   "source": [
    "submit = pd.read_csv(path+'sample_submission.csv')\n",
    "submit['전화해지여부'] = test_preds\n",
    "submit"
   ]
  },
  {
   "cell_type": "code",
   "execution_count": null,
   "id": "d5e97782-ca8c-4126-94ac-e4c30c054a35",
   "metadata": {},
   "outputs": [],
   "source": [
    "submit.to_csv('sumbit.csv', index=False)"
   ]
  }
 ],
 "metadata": {
  "kernelspec": {
   "display_name": "Python 3 (ipykernel)",
   "language": "python",
   "name": "python3"
  },
  "language_info": {
   "codemirror_mode": {
    "name": "ipython",
    "version": 3
   },
   "file_extension": ".py",
   "mimetype": "text/x-python",
   "name": "python",
   "nbconvert_exporter": "python",
   "pygments_lexer": "ipython3",
   "version": "3.9.12"
  }
 },
 "nbformat": 4,
 "nbformat_minor": 5
}
