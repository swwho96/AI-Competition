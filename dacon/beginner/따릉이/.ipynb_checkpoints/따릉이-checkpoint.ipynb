{
 "cells": [
  {
   "cell_type": "markdown",
   "id": "c70d2dd4-ad77-494a-bb44-e85be9a60486",
   "metadata": {
    "tags": []
   },
   "source": [
    "## 1. 데이터 불러오기"
   ]
  },
  {
   "cell_type": "code",
   "execution_count": 23,
   "id": "2efa21c6-ae7a-45e0-bd8e-5d8997eeacf7",
   "metadata": {},
   "outputs": [],
   "source": [
    "import numpy as np\n",
    "import pandas as pd"
   ]
  },
  {
   "cell_type": "code",
   "execution_count": 24,
   "id": "01ff0457-a69a-4d5b-9a5b-5d03b347a46f",
   "metadata": {},
   "outputs": [
    {
     "data": {
      "text/html": [
       "<div>\n",
       "<style scoped>\n",
       "    .dataframe tbody tr th:only-of-type {\n",
       "        vertical-align: middle;\n",
       "    }\n",
       "\n",
       "    .dataframe tbody tr th {\n",
       "        vertical-align: top;\n",
       "    }\n",
       "\n",
       "    .dataframe thead th {\n",
       "        text-align: right;\n",
       "    }\n",
       "</style>\n",
       "<table border=\"1\" class=\"dataframe\">\n",
       "  <thead>\n",
       "    <tr style=\"text-align: right;\">\n",
       "      <th></th>\n",
       "      <th>id</th>\n",
       "      <th>hour</th>\n",
       "      <th>hour_bef_temperature</th>\n",
       "      <th>hour_bef_precipitation</th>\n",
       "      <th>hour_bef_windspeed</th>\n",
       "      <th>hour_bef_humidity</th>\n",
       "      <th>hour_bef_visibility</th>\n",
       "      <th>hour_bef_ozone</th>\n",
       "      <th>hour_bef_pm10</th>\n",
       "      <th>hour_bef_pm2.5</th>\n",
       "      <th>count</th>\n",
       "    </tr>\n",
       "  </thead>\n",
       "  <tbody>\n",
       "    <tr>\n",
       "      <th>1454</th>\n",
       "      <td>2174</td>\n",
       "      <td>4</td>\n",
       "      <td>16.8</td>\n",
       "      <td>0.0</td>\n",
       "      <td>1.6</td>\n",
       "      <td>53.0</td>\n",
       "      <td>2000.0</td>\n",
       "      <td>0.031</td>\n",
       "      <td>37.0</td>\n",
       "      <td>27.0</td>\n",
       "      <td>21.0</td>\n",
       "    </tr>\n",
       "    <tr>\n",
       "      <th>1455</th>\n",
       "      <td>2175</td>\n",
       "      <td>3</td>\n",
       "      <td>10.8</td>\n",
       "      <td>0.0</td>\n",
       "      <td>3.8</td>\n",
       "      <td>45.0</td>\n",
       "      <td>2000.0</td>\n",
       "      <td>0.039</td>\n",
       "      <td>34.0</td>\n",
       "      <td>19.0</td>\n",
       "      <td>20.0</td>\n",
       "    </tr>\n",
       "    <tr>\n",
       "      <th>1456</th>\n",
       "      <td>2176</td>\n",
       "      <td>5</td>\n",
       "      <td>18.3</td>\n",
       "      <td>0.0</td>\n",
       "      <td>1.9</td>\n",
       "      <td>54.0</td>\n",
       "      <td>2000.0</td>\n",
       "      <td>0.009</td>\n",
       "      <td>30.0</td>\n",
       "      <td>21.0</td>\n",
       "      <td>22.0</td>\n",
       "    </tr>\n",
       "    <tr>\n",
       "      <th>1457</th>\n",
       "      <td>2178</td>\n",
       "      <td>21</td>\n",
       "      <td>20.7</td>\n",
       "      <td>0.0</td>\n",
       "      <td>3.7</td>\n",
       "      <td>37.0</td>\n",
       "      <td>1395.0</td>\n",
       "      <td>0.082</td>\n",
       "      <td>71.0</td>\n",
       "      <td>36.0</td>\n",
       "      <td>216.0</td>\n",
       "    </tr>\n",
       "    <tr>\n",
       "      <th>1458</th>\n",
       "      <td>2179</td>\n",
       "      <td>17</td>\n",
       "      <td>21.1</td>\n",
       "      <td>0.0</td>\n",
       "      <td>3.1</td>\n",
       "      <td>47.0</td>\n",
       "      <td>1973.0</td>\n",
       "      <td>0.046</td>\n",
       "      <td>38.0</td>\n",
       "      <td>17.0</td>\n",
       "      <td>170.0</td>\n",
       "    </tr>\n",
       "  </tbody>\n",
       "</table>\n",
       "</div>"
      ],
      "text/plain": [
       "        id  hour  hour_bef_temperature  hour_bef_precipitation  \\\n",
       "1454  2174     4                  16.8                     0.0   \n",
       "1455  2175     3                  10.8                     0.0   \n",
       "1456  2176     5                  18.3                     0.0   \n",
       "1457  2178    21                  20.7                     0.0   \n",
       "1458  2179    17                  21.1                     0.0   \n",
       "\n",
       "      hour_bef_windspeed  hour_bef_humidity  hour_bef_visibility  \\\n",
       "1454                 1.6               53.0               2000.0   \n",
       "1455                 3.8               45.0               2000.0   \n",
       "1456                 1.9               54.0               2000.0   \n",
       "1457                 3.7               37.0               1395.0   \n",
       "1458                 3.1               47.0               1973.0   \n",
       "\n",
       "      hour_bef_ozone  hour_bef_pm10  hour_bef_pm2.5  count  \n",
       "1454           0.031           37.0            27.0   21.0  \n",
       "1455           0.039           34.0            19.0   20.0  \n",
       "1456           0.009           30.0            21.0   22.0  \n",
       "1457           0.082           71.0            36.0  216.0  \n",
       "1458           0.046           38.0            17.0  170.0  "
      ]
     },
     "execution_count": 24,
     "metadata": {},
     "output_type": "execute_result"
    }
   ],
   "source": [
    "data = pd.read_csv('train.csv')\n",
    "data.tail(5)"
   ]
  },
  {
   "cell_type": "markdown",
   "id": "d8cc9256-6dde-4bfc-a402-2a844abad7c6",
   "metadata": {},
   "source": [
    "- id : 고유 id\n",
    "- hour : 시간\n",
    "- temperture : 1시간 전 기온\n",
    "- precipitation : 1시간 전 비가 내리면 1, 내리지 않으면 0\n",
    "- windspeed : 1시간 전 풍속(평균)\n",
    "- humidity : 1시간 전 습도\n",
    "- visibility : 1시간 전 시정/시계, 현재 기상 상황에서의 가시성\n",
    "- ozone : 1시간 전 오존 농도\n",
    "- pm10 : 1시간 전 미세먼지 농도\n",
    "- pm2.5 : 1시간 전 초미세먼지 농도\n",
    "- count : 시간에 따른 따릉이 대여 수 (target)"
   ]
  },
  {
   "cell_type": "markdown",
   "id": "acbe0394-ebdc-4ace-ace1-83ec633eddb6",
   "metadata": {},
   "source": [
    "## 2. 데이터 확인하기"
   ]
  },
  {
   "cell_type": "code",
   "execution_count": 25,
   "id": "909142c5-ab22-46d9-8ccd-3bd7c3240c2f",
   "metadata": {},
   "outputs": [],
   "source": [
    "import matplotlib.pyplot as plt\n",
    "import seaborn as sns"
   ]
  },
  {
   "cell_type": "code",
   "execution_count": 26,
   "id": "3577c0c8-2c2f-4426-ad81-13434c0df5a2",
   "metadata": {},
   "outputs": [
    {
     "name": "stdout",
     "output_type": "stream",
     "text": [
      "<class 'pandas.core.frame.DataFrame'>\n",
      "RangeIndex: 1459 entries, 0 to 1458\n",
      "Data columns (total 11 columns):\n",
      " #   Column                  Non-Null Count  Dtype  \n",
      "---  ------                  --------------  -----  \n",
      " 0   id                      1459 non-null   int64  \n",
      " 1   hour                    1459 non-null   int64  \n",
      " 2   hour_bef_temperature    1457 non-null   float64\n",
      " 3   hour_bef_precipitation  1457 non-null   float64\n",
      " 4   hour_bef_windspeed      1450 non-null   float64\n",
      " 5   hour_bef_humidity       1457 non-null   float64\n",
      " 6   hour_bef_visibility     1457 non-null   float64\n",
      " 7   hour_bef_ozone          1383 non-null   float64\n",
      " 8   hour_bef_pm10           1369 non-null   float64\n",
      " 9   hour_bef_pm2.5          1342 non-null   float64\n",
      " 10  count                   1459 non-null   float64\n",
      "dtypes: float64(9), int64(2)\n",
      "memory usage: 125.5 KB\n"
     ]
    }
   ],
   "source": [
    "data.info()"
   ]
  },
  {
   "cell_type": "code",
   "execution_count": 27,
   "id": "0d7ab28c-4c82-4b34-8bce-2ee1ae11b3f3",
   "metadata": {},
   "outputs": [
    {
     "data": {
      "text/plain": [
       "id                          0\n",
       "hour                        0\n",
       "hour_bef_temperature        2\n",
       "hour_bef_precipitation      2\n",
       "hour_bef_windspeed          9\n",
       "hour_bef_humidity           2\n",
       "hour_bef_visibility         2\n",
       "hour_bef_ozone             76\n",
       "hour_bef_pm10              90\n",
       "hour_bef_pm2.5            117\n",
       "count                       0\n",
       "dtype: int64"
      ]
     },
     "execution_count": 27,
     "metadata": {},
     "output_type": "execute_result"
    }
   ],
   "source": [
    "data.isnull().sum()"
   ]
  },
  {
   "cell_type": "code",
   "execution_count": 28,
   "id": "fce0bdcf-3d44-41be-b721-6f2ca3a5bab9",
   "metadata": {},
   "outputs": [],
   "source": [
    "data = data.fillna(method='bfill')"
   ]
  },
  {
   "cell_type": "code",
   "execution_count": 29,
   "id": "cac9625f-3ebd-413f-b0ff-b31cd7c25c40",
   "metadata": {},
   "outputs": [
    {
     "data": {
      "text/html": [
       "<div>\n",
       "<style scoped>\n",
       "    .dataframe tbody tr th:only-of-type {\n",
       "        vertical-align: middle;\n",
       "    }\n",
       "\n",
       "    .dataframe tbody tr th {\n",
       "        vertical-align: top;\n",
       "    }\n",
       "\n",
       "    .dataframe thead th {\n",
       "        text-align: right;\n",
       "    }\n",
       "</style>\n",
       "<table border=\"1\" class=\"dataframe\">\n",
       "  <thead>\n",
       "    <tr style=\"text-align: right;\">\n",
       "      <th></th>\n",
       "      <th>id</th>\n",
       "      <th>hour</th>\n",
       "      <th>hour_bef_temperature</th>\n",
       "      <th>hour_bef_precipitation</th>\n",
       "      <th>hour_bef_windspeed</th>\n",
       "      <th>hour_bef_humidity</th>\n",
       "      <th>hour_bef_visibility</th>\n",
       "      <th>hour_bef_ozone</th>\n",
       "      <th>hour_bef_pm10</th>\n",
       "      <th>hour_bef_pm2.5</th>\n",
       "      <th>count</th>\n",
       "    </tr>\n",
       "  </thead>\n",
       "  <tbody>\n",
       "    <tr>\n",
       "      <th>count</th>\n",
       "      <td>1459.000000</td>\n",
       "      <td>1459.000000</td>\n",
       "      <td>1459.000000</td>\n",
       "      <td>1459.000000</td>\n",
       "      <td>1459.000000</td>\n",
       "      <td>1459.000000</td>\n",
       "      <td>1459.000000</td>\n",
       "      <td>1459.000000</td>\n",
       "      <td>1459.000000</td>\n",
       "      <td>1459.000000</td>\n",
       "      <td>1459.000000</td>\n",
       "    </tr>\n",
       "    <tr>\n",
       "      <th>mean</th>\n",
       "      <td>1105.914325</td>\n",
       "      <td>11.493489</td>\n",
       "      <td>16.708705</td>\n",
       "      <td>0.031528</td>\n",
       "      <td>2.479232</td>\n",
       "      <td>52.224812</td>\n",
       "      <td>1405.535298</td>\n",
       "      <td>0.039167</td>\n",
       "      <td>57.544894</td>\n",
       "      <td>30.472927</td>\n",
       "      <td>108.563400</td>\n",
       "    </tr>\n",
       "    <tr>\n",
       "      <th>std</th>\n",
       "      <td>631.338681</td>\n",
       "      <td>6.922790</td>\n",
       "      <td>5.240951</td>\n",
       "      <td>0.174801</td>\n",
       "      <td>1.380210</td>\n",
       "      <td>20.360878</td>\n",
       "      <td>582.949659</td>\n",
       "      <td>0.019423</td>\n",
       "      <td>31.869459</td>\n",
       "      <td>14.752036</td>\n",
       "      <td>82.631733</td>\n",
       "    </tr>\n",
       "    <tr>\n",
       "      <th>min</th>\n",
       "      <td>3.000000</td>\n",
       "      <td>0.000000</td>\n",
       "      <td>3.100000</td>\n",
       "      <td>0.000000</td>\n",
       "      <td>0.000000</td>\n",
       "      <td>7.000000</td>\n",
       "      <td>78.000000</td>\n",
       "      <td>0.003000</td>\n",
       "      <td>9.000000</td>\n",
       "      <td>8.000000</td>\n",
       "      <td>1.000000</td>\n",
       "    </tr>\n",
       "    <tr>\n",
       "      <th>25%</th>\n",
       "      <td>555.500000</td>\n",
       "      <td>5.500000</td>\n",
       "      <td>12.800000</td>\n",
       "      <td>0.000000</td>\n",
       "      <td>1.400000</td>\n",
       "      <td>36.000000</td>\n",
       "      <td>880.000000</td>\n",
       "      <td>0.026000</td>\n",
       "      <td>36.000000</td>\n",
       "      <td>20.000000</td>\n",
       "      <td>37.000000</td>\n",
       "    </tr>\n",
       "    <tr>\n",
       "      <th>50%</th>\n",
       "      <td>1115.000000</td>\n",
       "      <td>11.000000</td>\n",
       "      <td>16.600000</td>\n",
       "      <td>0.000000</td>\n",
       "      <td>2.300000</td>\n",
       "      <td>51.000000</td>\n",
       "      <td>1577.000000</td>\n",
       "      <td>0.038000</td>\n",
       "      <td>52.000000</td>\n",
       "      <td>27.000000</td>\n",
       "      <td>96.000000</td>\n",
       "    </tr>\n",
       "    <tr>\n",
       "      <th>75%</th>\n",
       "      <td>1651.000000</td>\n",
       "      <td>17.500000</td>\n",
       "      <td>20.050000</td>\n",
       "      <td>0.000000</td>\n",
       "      <td>3.400000</td>\n",
       "      <td>68.500000</td>\n",
       "      <td>1994.000000</td>\n",
       "      <td>0.052000</td>\n",
       "      <td>70.000000</td>\n",
       "      <td>37.000000</td>\n",
       "      <td>150.000000</td>\n",
       "    </tr>\n",
       "    <tr>\n",
       "      <th>max</th>\n",
       "      <td>2179.000000</td>\n",
       "      <td>23.000000</td>\n",
       "      <td>30.000000</td>\n",
       "      <td>1.000000</td>\n",
       "      <td>8.000000</td>\n",
       "      <td>99.000000</td>\n",
       "      <td>2000.000000</td>\n",
       "      <td>0.125000</td>\n",
       "      <td>269.000000</td>\n",
       "      <td>90.000000</td>\n",
       "      <td>431.000000</td>\n",
       "    </tr>\n",
       "  </tbody>\n",
       "</table>\n",
       "</div>"
      ],
      "text/plain": [
       "                id         hour  hour_bef_temperature  hour_bef_precipitation  \\\n",
       "count  1459.000000  1459.000000           1459.000000             1459.000000   \n",
       "mean   1105.914325    11.493489             16.708705                0.031528   \n",
       "std     631.338681     6.922790              5.240951                0.174801   \n",
       "min       3.000000     0.000000              3.100000                0.000000   \n",
       "25%     555.500000     5.500000             12.800000                0.000000   \n",
       "50%    1115.000000    11.000000             16.600000                0.000000   \n",
       "75%    1651.000000    17.500000             20.050000                0.000000   \n",
       "max    2179.000000    23.000000             30.000000                1.000000   \n",
       "\n",
       "       hour_bef_windspeed  hour_bef_humidity  hour_bef_visibility  \\\n",
       "count         1459.000000        1459.000000          1459.000000   \n",
       "mean             2.479232          52.224812          1405.535298   \n",
       "std              1.380210          20.360878           582.949659   \n",
       "min              0.000000           7.000000            78.000000   \n",
       "25%              1.400000          36.000000           880.000000   \n",
       "50%              2.300000          51.000000          1577.000000   \n",
       "75%              3.400000          68.500000          1994.000000   \n",
       "max              8.000000          99.000000          2000.000000   \n",
       "\n",
       "       hour_bef_ozone  hour_bef_pm10  hour_bef_pm2.5        count  \n",
       "count     1459.000000    1459.000000     1459.000000  1459.000000  \n",
       "mean         0.039167      57.544894       30.472927   108.563400  \n",
       "std          0.019423      31.869459       14.752036    82.631733  \n",
       "min          0.003000       9.000000        8.000000     1.000000  \n",
       "25%          0.026000      36.000000       20.000000    37.000000  \n",
       "50%          0.038000      52.000000       27.000000    96.000000  \n",
       "75%          0.052000      70.000000       37.000000   150.000000  \n",
       "max          0.125000     269.000000       90.000000   431.000000  "
      ]
     },
     "execution_count": 29,
     "metadata": {},
     "output_type": "execute_result"
    }
   ],
   "source": [
    "data.describe()"
   ]
  },
  {
   "cell_type": "code",
   "execution_count": 30,
   "id": "5c39a151-448e-4590-af84-54261a50aedb",
   "metadata": {},
   "outputs": [
    {
     "data": {
      "text/plain": [
       "20    61\n",
       "4     61\n",
       "5     61\n",
       "11    61\n",
       "22    61\n",
       "19    61\n",
       "15    61\n",
       "7     61\n",
       "8     61\n",
       "10    61\n",
       "1     61\n",
       "14    61\n",
       "9     61\n",
       "3     61\n",
       "2     61\n",
       "18    61\n",
       "23    61\n",
       "6     61\n",
       "12    61\n",
       "13    60\n",
       "17    60\n",
       "16    60\n",
       "0     60\n",
       "21    60\n",
       "Name: hour, dtype: int64"
      ]
     },
     "execution_count": 30,
     "metadata": {},
     "output_type": "execute_result"
    }
   ],
   "source": [
    "data['hour'].value_counts()"
   ]
  },
  {
   "cell_type": "code",
   "execution_count": 31,
   "id": "cb8df9cc-38fe-40d5-b06d-c7e7fe7490b4",
   "metadata": {},
   "outputs": [
    {
     "data": {
      "text/plain": [
       "id                        0\n",
       "hour                      0\n",
       "hour_bef_temperature      0\n",
       "hour_bef_precipitation    0\n",
       "hour_bef_windspeed        0\n",
       "hour_bef_humidity         0\n",
       "hour_bef_visibility       0\n",
       "hour_bef_ozone            0\n",
       "hour_bef_pm10             0\n",
       "hour_bef_pm2.5            0\n",
       "count                     0\n",
       "dtype: int64"
      ]
     },
     "execution_count": 31,
     "metadata": {},
     "output_type": "execute_result"
    }
   ],
   "source": [
    "data.isnull().sum()"
   ]
  },
  {
   "cell_type": "code",
   "execution_count": 32,
   "id": "4b1cf2f6-40a9-4dcc-9868-0c4d08345c5f",
   "metadata": {},
   "outputs": [
    {
     "data": {
      "text/plain": [
       "<AxesSubplot:xlabel='hour', ylabel='count'>"
      ]
     },
     "execution_count": 32,
     "metadata": {},
     "output_type": "execute_result"
    },
    {
     "data": {
      "image/png": "[encoded data removed]",
      "text/plain": [
       "<Figure size 432x288 with 1 Axes>"
      ]
     },
     "metadata": {
      "needs_background": "light"
     },
     "output_type": "display_data"
    }
   ],
   "source": [
    "sns.barplot(x='hour', y='count', data=data)"
   ]
  },
  {
   "cell_type": "code",
   "execution_count": 33,
   "id": "696ddba9-eabc-452e-92b9-7d1446d60349",
   "metadata": {},
   "outputs": [
    {
     "data": {
      "image/png": "[encoded data removed]",
      "text/plain": [
       "<Figure size 1080x576 with 1 Axes>"
      ]
     },
     "metadata": {
      "needs_background": "light"
     },
     "output_type": "display_data"
    }
   ],
   "source": [
    "plt.figure(figsize=(15, 8))\n",
    "sns.scatterplot(x='hour_bef_temperature', y='count', data=data)\n",
    "plt.show()"
   ]
  },
  {
   "cell_type": "code",
   "execution_count": 34,
   "id": "942a5c50-787f-42da-8640-fbad7f276781",
   "metadata": {},
   "outputs": [
    {
     "data": {
      "image/png": "[encoded data removed]",
      "text/plain": [
       "<Figure size 1080x720 with 2 Axes>"
      ]
     },
     "metadata": {
      "needs_background": "light"
     },
     "output_type": "display_data"
    }
   ],
   "source": [
    "plt.figure(figsize=(15,10))\n",
    "sns.heatmap(data.corr(), cmap='Blues', annot=True)\n",
    "plt.show()"
   ]
  },
  {
   "cell_type": "markdown",
   "id": "568f78c8-ad96-4b8a-a46e-bd3000ded641",
   "metadata": {},
   "source": [
    "## 3. train / validation 나누기"
   ]
  },
  {
   "cell_type": "code",
   "execution_count": 35,
   "id": "55991b75-1066-4384-b394-72ba8733d313",
   "metadata": {},
   "outputs": [],
   "source": [
    "from sklearn.model_selection import train_test_split"
   ]
  },
  {
   "cell_type": "code",
   "execution_count": 38,
   "id": "62c91e69-d45d-4863-aef7-743bd1171699",
   "metadata": {},
   "outputs": [],
   "source": [
    "X = data.drop('count', axis=1)\n",
    "Y = data['count']"
   ]
  },
  {
   "cell_type": "code",
   "execution_count": 39,
   "id": "2f9a911f-d754-4699-95a1-7534030cc01e",
   "metadata": {},
   "outputs": [
    {
     "data": {
      "text/plain": [
       "((1459, 10), (1459,))"
      ]
     },
     "execution_count": 39,
     "metadata": {},
     "output_type": "execute_result"
    }
   ],
   "source": [
    "X.shape, Y.shape"
   ]
  },
  {
   "cell_type": "code",
   "execution_count": 40,
   "id": "d7788523-7959-41cd-961d-6c96daa3266e",
   "metadata": {},
   "outputs": [],
   "source": [
    "x_train, x_val, y_train, y_val = train_test_split(X, Y, train_size = 0.8, random_state=42)"
   ]
  },
  {
   "cell_type": "markdown",
   "id": "6e5c49bb-1edb-4c0d-ae91-c7ac9792226e",
   "metadata": {},
   "source": [
    "## 4. 모델 학습하기"
   ]
  },
  {
   "cell_type": "code",
   "execution_count": 75,
   "id": "8dfb2591-d6ec-44b0-8122-12ad82843339",
   "metadata": {},
   "outputs": [],
   "source": [
    "from sklearn.linear_model import LinearRegression\n",
    "from sklearn.ensemble import RandomForestRegressor\n",
    "from xgboost import XGBRegressor\n",
    "import tensorflow as tf\n",
    "from tensorflow import keras\n",
    "from tensorflow.keras.layers import Input, Dense\n",
    "from tensorflow.keras.models import Model\n",
    "\n",
    "from sklearn.metrics import mean_squared_error"
   ]
  },
  {
   "cell_type": "code",
   "execution_count": 129,
   "id": "aaa01a73-2e8e-435c-a7d6-efc197737b7c",
   "metadata": {},
   "outputs": [
    {
     "name": "stdout",
     "output_type": "stream",
     "text": [
      "LinearRegression RMSE: 52.28613655198456\n"
     ]
    }
   ],
   "source": [
    "lr = LinearRegression()\n",
    "lr.fit(x_train, y_train)\n",
    "lr_y_pred = lr.predict(x_val)\n",
    "print('LinearRegression RMSE:', mean_squared_error(y_val, lr_y_pred) ** 0.5)"
   ]
  },
  {
   "cell_type": "code",
   "execution_count": 130,
   "id": "fc5e5f00-d965-4146-b0ee-5434c2c86f96",
   "metadata": {},
   "outputs": [],
   "source": [
    "rf = RandomForestRegressor(random_state=42)"
   ]
  },
  {
   "cell_type": "code",
   "execution_count": 131,
   "id": "2193ea43-7d2b-43d0-a589-76b3562cfe42",
   "metadata": {},
   "outputs": [
    {
     "data": {
      "text/plain": [
       "RandomForestRegressor(random_state=42)"
      ]
     },
     "execution_count": 131,
     "metadata": {},
     "output_type": "execute_result"
    }
   ],
   "source": [
    "rf.fit(x_train, y_train)"
   ]
  },
  {
   "cell_type": "code",
   "execution_count": 132,
   "id": "8722cecb-ced9-444b-b781-41b1c4f72cc1",
   "metadata": {},
   "outputs": [],
   "source": [
    "rf_y_pred = rf.predict(x_val)"
   ]
  },
  {
   "cell_type": "code",
   "execution_count": 133,
   "id": "35ee3519-aa5b-426c-b66d-e2a0c57e5010",
   "metadata": {},
   "outputs": [
    {
     "name": "stdout",
     "output_type": "stream",
     "text": [
      "RandomForest RMSE: 38.60929540199298\n"
     ]
    }
   ],
   "source": [
    "print('RandomForest RMSE:', mean_squared_error(y_val, rf_y_pred) ** 0.5)"
   ]
  },
  {
   "cell_type": "code",
   "execution_count": 134,
   "id": "c856c278-db70-47e0-9d8c-c48ce21cbe75",
   "metadata": {},
   "outputs": [
    {
     "name": "stdout",
     "output_type": "stream",
     "text": [
      "XGBoost RMSE: 39.226584375640385\n"
     ]
    }
   ],
   "source": [
    "xg = XGBRegressor()\n",
    "xg.fit(x_train, y_train)\n",
    "xg_y_pred = xg.predict(x_val)\n",
    "print('XGBoost RMSE:', mean_squared_error(y_val, xg_y_pred) ** 0.5)"
   ]
  },
  {
   "cell_type": "code",
   "execution_count": 135,
   "id": "f49ecb63-ae3e-479d-8ff4-f49e510143f3",
   "metadata": {},
   "outputs": [],
   "source": [
    "es = keras.callbacks.EarlyStopping(monitor='val_loss', min_delta=0, patience=5, restore_best_weights=True)"
   ]
  },
  {
   "cell_type": "code",
   "execution_count": 136,
   "id": "b3758ec5-d3d4-4cf3-ad96-a5c5c8babb59",
   "metadata": {},
   "outputs": [],
   "source": [
    "keras.backend.clear_session()\n",
    "\n",
    "model = keras.models.Sequential()\n",
    "\n",
    "model.add(Input(shape=(10,)))\n",
    "model.add(Dense(64, activation='relu'))\n",
    "model.add(Dense(64, activation='relu'))\n",
    "model.add(Dense(64, activation='relu'))\n",
    "model.add(Dense(64, activation='relu'))\n",
    "model.add(Dense(64, activation='relu'))\n",
    "model.add(Dense(32, activation='relu'))\n",
    "model.add(Dense(16, activation='relu'))\n",
    "model.add(Dense(1))\n",
    "\n",
    "model.compile(loss='mse', optimizer='adam')"
   ]
  },
  {
   "cell_type": "code",
   "execution_count": 137,
   "id": "2ca2feaa-484c-4e0d-be43-989cdeb9daee",
   "metadata": {},
   "outputs": [
    {
     "name": "stdout",
     "output_type": "stream",
     "text": [
      "Epoch 1/200\n",
      "30/30 [==============================] - 1s 9ms/step - loss: 7453.9688 - val_loss: 6244.0991\n",
      "Epoch 2/200\n",
      "30/30 [==============================] - 0s 4ms/step - loss: 6403.2900 - val_loss: 5869.1104\n",
      "Epoch 3/200\n",
      "30/30 [==============================] - 0s 3ms/step - loss: 6358.6143 - val_loss: 6080.0659\n",
      "Epoch 4/200\n",
      "30/30 [==============================] - 0s 3ms/step - loss: 6362.8633 - val_loss: 6556.3027\n",
      "Epoch 5/200\n",
      "30/30 [==============================] - 0s 3ms/step - loss: 6424.5259 - val_loss: 5813.7773\n",
      "Epoch 6/200\n",
      "30/30 [==============================] - 0s 3ms/step - loss: 6382.4375 - val_loss: 6500.4214\n",
      "Epoch 7/200\n",
      "30/30 [==============================] - 0s 3ms/step - loss: 6529.5288 - val_loss: 5800.4399\n",
      "Epoch 8/200\n",
      "30/30 [==============================] - 0s 3ms/step - loss: 6458.5186 - val_loss: 6017.8701\n",
      "Epoch 9/200\n",
      "30/30 [==============================] - 0s 3ms/step - loss: 6226.5640 - val_loss: 5958.8560\n",
      "Epoch 10/200\n",
      "30/30 [==============================] - 0s 3ms/step - loss: 6198.6987 - val_loss: 5706.0298\n",
      "Epoch 11/200\n",
      "30/30 [==============================] - 0s 3ms/step - loss: 6205.2544 - val_loss: 6127.5874\n",
      "Epoch 12/200\n",
      "30/30 [==============================] - 0s 3ms/step - loss: 6348.8667 - val_loss: 6493.7515\n",
      "Epoch 13/200\n",
      "30/30 [==============================] - 0s 2ms/step - loss: 6204.3853 - val_loss: 5658.9072\n",
      "Epoch 14/200\n",
      "30/30 [==============================] - 0s 3ms/step - loss: 6037.7476 - val_loss: 5541.0679\n",
      "Epoch 15/200\n",
      "30/30 [==============================] - 0s 3ms/step - loss: 5826.2847 - val_loss: 5554.9097\n",
      "Epoch 16/200\n",
      "30/30 [==============================] - 0s 3ms/step - loss: 5953.3018 - val_loss: 5248.1152\n",
      "Epoch 17/200\n",
      "30/30 [==============================] - 0s 3ms/step - loss: 5663.4980 - val_loss: 5264.3179\n",
      "Epoch 18/200\n",
      "30/30 [==============================] - 0s 3ms/step - loss: 5170.2300 - val_loss: 4632.2764\n",
      "Epoch 19/200\n",
      "30/30 [==============================] - 0s 3ms/step - loss: 4996.8672 - val_loss: 5463.6860\n",
      "Epoch 20/200\n",
      "30/30 [==============================] - 0s 3ms/step - loss: 5552.4702 - val_loss: 5904.5112\n",
      "Epoch 21/200\n",
      "30/30 [==============================] - 0s 3ms/step - loss: 4968.3179 - val_loss: 4238.8159\n",
      "Epoch 22/200\n",
      "30/30 [==============================] - 0s 3ms/step - loss: 4275.0942 - val_loss: 3914.8660\n",
      "Epoch 23/200\n",
      "30/30 [==============================] - 0s 3ms/step - loss: 3807.5659 - val_loss: 3547.5256\n",
      "Epoch 24/200\n",
      "30/30 [==============================] - 0s 3ms/step - loss: 3341.3611 - val_loss: 3861.2178\n",
      "Epoch 25/200\n",
      "30/30 [==============================] - 0s 3ms/step - loss: 3494.4060 - val_loss: 5636.3179\n",
      "Epoch 26/200\n",
      "30/30 [==============================] - 0s 3ms/step - loss: 3771.1538 - val_loss: 3997.5735\n",
      "Epoch 27/200\n",
      "30/30 [==============================] - 0s 3ms/step - loss: 3236.8645 - val_loss: 3211.3523\n",
      "Epoch 28/200\n",
      "30/30 [==============================] - 0s 3ms/step - loss: 3284.8389 - val_loss: 3103.8149\n",
      "Epoch 29/200\n",
      "30/30 [==============================] - 0s 3ms/step - loss: 3115.9084 - val_loss: 3246.2092\n",
      "Epoch 30/200\n",
      "30/30 [==============================] - 0s 3ms/step - loss: 2976.1455 - val_loss: 3830.7568\n",
      "Epoch 31/200\n",
      "30/30 [==============================] - 0s 3ms/step - loss: 3724.4697 - val_loss: 2925.4949\n",
      "Epoch 32/200\n",
      "30/30 [==============================] - 0s 3ms/step - loss: 3299.3347 - val_loss: 2955.2708\n",
      "Epoch 33/200\n",
      "30/30 [==============================] - 0s 3ms/step - loss: 3149.7241 - val_loss: 3073.8364\n",
      "Epoch 34/200\n",
      "30/30 [==============================] - 0s 3ms/step - loss: 2965.2927 - val_loss: 2853.4290\n",
      "Epoch 35/200\n",
      "30/30 [==============================] - 0s 3ms/step - loss: 2919.8176 - val_loss: 2892.3667\n",
      "Epoch 36/200\n",
      "30/30 [==============================] - 0s 3ms/step - loss: 3066.3359 - val_loss: 2732.4170\n",
      "Epoch 37/200\n",
      "30/30 [==============================] - 0s 3ms/step - loss: 2880.3618 - val_loss: 2765.3132\n",
      "Epoch 38/200\n",
      "30/30 [==============================] - 0s 2ms/step - loss: 2867.9292 - val_loss: 2810.1069\n",
      "Epoch 39/200\n",
      "30/30 [==============================] - 0s 3ms/step - loss: 3048.0530 - val_loss: 2888.5364\n",
      "Epoch 40/200\n",
      "30/30 [==============================] - 0s 3ms/step - loss: 2817.0850 - val_loss: 2769.1248\n",
      "Epoch 41/200\n",
      "30/30 [==============================] - 0s 3ms/step - loss: 2880.5989 - val_loss: 3080.2234\n"
     ]
    },
    {
     "data": {
      "text/plain": [
       "<keras.callbacks.History at 0x1b2a1a41a00>"
      ]
     },
     "execution_count": 137,
     "metadata": {},
     "output_type": "execute_result"
    }
   ],
   "source": [
    "model.fit(x_train, y_train, epochs=200, verbose=1, callbacks=[es], validation_split=0.2)"
   ]
  },
  {
   "cell_type": "code",
   "execution_count": 139,
   "id": "398d8bc1-9c75-4b97-9f1f-9522a29649d7",
   "metadata": {},
   "outputs": [
    {
     "name": "stdout",
     "output_type": "stream",
     "text": [
      "10/10 [==============================] - 0s 2ms/step\n",
      "Deeplearnig RMSE: 56.019270133319814\n"
     ]
    }
   ],
   "source": [
    "dl_y_pred = model.predict(x_val)\n",
    "print('Deeplearnig RMSE:', mean_squared_error(y_val, dl_y_pred) ** 0.5)"
   ]
  },
  {
   "cell_type": "markdown",
   "id": "a716f6c5-6422-4c09-8852-a110e210521a",
   "metadata": {},
   "source": [
    "## 5. submission 만들기"
   ]
  },
  {
   "cell_type": "code",
   "execution_count": 140,
   "id": "598fbe58-8ed6-431b-ac4f-83928cf5707b",
   "metadata": {},
   "outputs": [],
   "source": [
    "test_data = pd.read_csv('test.csv')"
   ]
  },
  {
   "cell_type": "code",
   "execution_count": 141,
   "id": "8e0ab250-8391-46f0-9933-82cc9289a42c",
   "metadata": {},
   "outputs": [
    {
     "data": {
      "text/plain": [
       "id                        0\n",
       "hour                      0\n",
       "hour_bef_temperature      0\n",
       "hour_bef_precipitation    0\n",
       "hour_bef_windspeed        0\n",
       "hour_bef_humidity         0\n",
       "hour_bef_visibility       0\n",
       "hour_bef_ozone            0\n",
       "hour_bef_pm10             0\n",
       "hour_bef_pm2.5            0\n",
       "dtype: int64"
      ]
     },
     "execution_count": 141,
     "metadata": {},
     "output_type": "execute_result"
    }
   ],
   "source": [
    "test_data = test_data.fillna(method='bfill')\n",
    "test_data.isnull().sum()"
   ]
  },
  {
   "cell_type": "code",
   "execution_count": 143,
   "id": "8cd0a07e-ae81-4f18-bc88-d294f935d7e3",
   "metadata": {},
   "outputs": [],
   "source": [
    "result = rf.predict(test_data)"
   ]
  },
  {
   "cell_type": "code",
   "execution_count": 144,
   "id": "b851997d-ea88-4d61-9f89-6e8ba223945c",
   "metadata": {},
   "outputs": [
    {
     "data": {
      "text/html": [
       "<div>\n",
       "<style scoped>\n",
       "    .dataframe tbody tr th:only-of-type {\n",
       "        vertical-align: middle;\n",
       "    }\n",
       "\n",
       "    .dataframe tbody tr th {\n",
       "        vertical-align: top;\n",
       "    }\n",
       "\n",
       "    .dataframe thead th {\n",
       "        text-align: right;\n",
       "    }\n",
       "</style>\n",
       "<table border=\"1\" class=\"dataframe\">\n",
       "  <thead>\n",
       "    <tr style=\"text-align: right;\">\n",
       "      <th></th>\n",
       "      <th>id</th>\n",
       "      <th>count</th>\n",
       "    </tr>\n",
       "  </thead>\n",
       "  <tbody>\n",
       "    <tr>\n",
       "      <th>0</th>\n",
       "      <td>0</td>\n",
       "      <td>NaN</td>\n",
       "    </tr>\n",
       "    <tr>\n",
       "      <th>1</th>\n",
       "      <td>1</td>\n",
       "      <td>NaN</td>\n",
       "    </tr>\n",
       "    <tr>\n",
       "      <th>2</th>\n",
       "      <td>2</td>\n",
       "      <td>NaN</td>\n",
       "    </tr>\n",
       "    <tr>\n",
       "      <th>3</th>\n",
       "      <td>4</td>\n",
       "      <td>NaN</td>\n",
       "    </tr>\n",
       "    <tr>\n",
       "      <th>4</th>\n",
       "      <td>5</td>\n",
       "      <td>NaN</td>\n",
       "    </tr>\n",
       "    <tr>\n",
       "      <th>...</th>\n",
       "      <td>...</td>\n",
       "      <td>...</td>\n",
       "    </tr>\n",
       "    <tr>\n",
       "      <th>710</th>\n",
       "      <td>2148</td>\n",
       "      <td>NaN</td>\n",
       "    </tr>\n",
       "    <tr>\n",
       "      <th>711</th>\n",
       "      <td>2149</td>\n",
       "      <td>NaN</td>\n",
       "    </tr>\n",
       "    <tr>\n",
       "      <th>712</th>\n",
       "      <td>2165</td>\n",
       "      <td>NaN</td>\n",
       "    </tr>\n",
       "    <tr>\n",
       "      <th>713</th>\n",
       "      <td>2166</td>\n",
       "      <td>NaN</td>\n",
       "    </tr>\n",
       "    <tr>\n",
       "      <th>714</th>\n",
       "      <td>2177</td>\n",
       "      <td>NaN</td>\n",
       "    </tr>\n",
       "  </tbody>\n",
       "</table>\n",
       "<p>715 rows × 2 columns</p>\n",
       "</div>"
      ],
      "text/plain": [
       "       id  count\n",
       "0       0    NaN\n",
       "1       1    NaN\n",
       "2       2    NaN\n",
       "3       4    NaN\n",
       "4       5    NaN\n",
       "..    ...    ...\n",
       "710  2148    NaN\n",
       "711  2149    NaN\n",
       "712  2165    NaN\n",
       "713  2166    NaN\n",
       "714  2177    NaN\n",
       "\n",
       "[715 rows x 2 columns]"
      ]
     },
     "execution_count": 144,
     "metadata": {},
     "output_type": "execute_result"
    }
   ],
   "source": [
    "submission = pd.read_csv('submission.csv')\n",
    "submission"
   ]
  },
  {
   "cell_type": "code",
   "execution_count": 145,
   "id": "ee32b14f-2b1f-4fc6-beb3-fb027a62ca1a",
   "metadata": {},
   "outputs": [
    {
     "data": {
      "text/html": [
       "<div>\n",
       "<style scoped>\n",
       "    .dataframe tbody tr th:only-of-type {\n",
       "        vertical-align: middle;\n",
       "    }\n",
       "\n",
       "    .dataframe tbody tr th {\n",
       "        vertical-align: top;\n",
       "    }\n",
       "\n",
       "    .dataframe thead th {\n",
       "        text-align: right;\n",
       "    }\n",
       "</style>\n",
       "<table border=\"1\" class=\"dataframe\">\n",
       "  <thead>\n",
       "    <tr style=\"text-align: right;\">\n",
       "      <th></th>\n",
       "      <th>id</th>\n",
       "      <th>count</th>\n",
       "    </tr>\n",
       "  </thead>\n",
       "  <tbody>\n",
       "    <tr>\n",
       "      <th>0</th>\n",
       "      <td>0</td>\n",
       "      <td>106.98</td>\n",
       "    </tr>\n",
       "    <tr>\n",
       "      <th>1</th>\n",
       "      <td>1</td>\n",
       "      <td>244.38</td>\n",
       "    </tr>\n",
       "    <tr>\n",
       "      <th>2</th>\n",
       "      <td>2</td>\n",
       "      <td>95.03</td>\n",
       "    </tr>\n",
       "    <tr>\n",
       "      <th>3</th>\n",
       "      <td>4</td>\n",
       "      <td>25.56</td>\n",
       "    </tr>\n",
       "    <tr>\n",
       "      <th>4</th>\n",
       "      <td>5</td>\n",
       "      <td>72.24</td>\n",
       "    </tr>\n",
       "    <tr>\n",
       "      <th>...</th>\n",
       "      <td>...</td>\n",
       "      <td>...</td>\n",
       "    </tr>\n",
       "    <tr>\n",
       "      <th>710</th>\n",
       "      <td>2148</td>\n",
       "      <td>62.18</td>\n",
       "    </tr>\n",
       "    <tr>\n",
       "      <th>711</th>\n",
       "      <td>2149</td>\n",
       "      <td>65.23</td>\n",
       "    </tr>\n",
       "    <tr>\n",
       "      <th>712</th>\n",
       "      <td>2165</td>\n",
       "      <td>114.83</td>\n",
       "    </tr>\n",
       "    <tr>\n",
       "      <th>713</th>\n",
       "      <td>2166</td>\n",
       "      <td>137.87</td>\n",
       "    </tr>\n",
       "    <tr>\n",
       "      <th>714</th>\n",
       "      <td>2177</td>\n",
       "      <td>194.94</td>\n",
       "    </tr>\n",
       "  </tbody>\n",
       "</table>\n",
       "<p>715 rows × 2 columns</p>\n",
       "</div>"
      ],
      "text/plain": [
       "       id   count\n",
       "0       0  106.98\n",
       "1       1  244.38\n",
       "2       2   95.03\n",
       "3       4   25.56\n",
       "4       5   72.24\n",
       "..    ...     ...\n",
       "710  2148   62.18\n",
       "711  2149   65.23\n",
       "712  2165  114.83\n",
       "713  2166  137.87\n",
       "714  2177  194.94\n",
       "\n",
       "[715 rows x 2 columns]"
      ]
     },
     "execution_count": 145,
     "metadata": {},
     "output_type": "execute_result"
    }
   ],
   "source": [
    "submission['count'] = result\n",
    "submission"
   ]
  },
  {
   "cell_type": "code",
   "execution_count": 146,
   "id": "fb45e23a-1145-491a-af10-140435ae7db1",
   "metadata": {},
   "outputs": [],
   "source": [
    "submission.to_csv('result.csv', index=False)"
   ]
  }
 ],
 "metadata": {
  "kernelspec": {
   "display_name": "Python 3 (ipykernel)",
   "language": "python",
   "name": "python3"
  },
  "language_info": {
   "codemirror_mode": {
    "name": "ipython",
    "version": 3
   },
   "file_extension": ".py",
   "mimetype": "text/x-python",
   "name": "python",
   "nbconvert_exporter": "python",
   "pygments_lexer": "ipython3",
   "version": "3.9.12"
  }
 },
 "nbformat": 4,
 "nbformat_minor": 5
}
